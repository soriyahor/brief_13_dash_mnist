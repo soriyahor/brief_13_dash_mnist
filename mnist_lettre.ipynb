{
 "cells": [
  {
   "cell_type": "code",
   "execution_count": 2,
   "metadata": {},
   "outputs": [
    {
     "name": "stderr",
     "output_type": "stream",
     "text": [
      "2024-03-01 09:41:46.234275: I tensorflow/core/util/port.cc:113] oneDNN custom operations are on. You may see slightly different numerical results due to floating-point round-off errors from different computation orders. To turn them off, set the environment variable `TF_ENABLE_ONEDNN_OPTS=0`.\n",
      "2024-03-01 09:41:46.272508: E external/local_xla/xla/stream_executor/cuda/cuda_dnn.cc:9261] Unable to register cuDNN factory: Attempting to register factory for plugin cuDNN when one has already been registered\n",
      "2024-03-01 09:41:46.272546: E external/local_xla/xla/stream_executor/cuda/cuda_fft.cc:607] Unable to register cuFFT factory: Attempting to register factory for plugin cuFFT when one has already been registered\n",
      "2024-03-01 09:41:46.273373: E external/local_xla/xla/stream_executor/cuda/cuda_blas.cc:1515] Unable to register cuBLAS factory: Attempting to register factory for plugin cuBLAS when one has already been registered\n",
      "2024-03-01 09:41:46.280807: I tensorflow/core/platform/cpu_feature_guard.cc:182] This TensorFlow binary is optimized to use available CPU instructions in performance-critical operations.\n",
      "To enable the following instructions: AVX2 AVX512F AVX512_VNNI FMA, in other operations, rebuild TensorFlow with the appropriate compiler flags.\n",
      "2024-03-01 09:41:47.122074: W tensorflow/compiler/tf2tensorrt/utils/py_utils.cc:38] TF-TRT Warning: Could not find TensorRT\n"
     ]
    }
   ],
   "source": [
    "import matplotlib.pyplot as plt\n",
    "import tensorflow as tf\n",
    "from tensorflow.keras import layers, models\n",
    "from emnist import list_datasets, extract_training_samples,extract_test_samples\n",
    "from tensorflow.keras.utils import to_categorical\n",
    "from tensorflow.keras.callbacks import EarlyStopping, ReduceLROnPlateau,ModelCheckpoint\n",
    "import keras\n",
    "from sklearn.model_selection import train_test_split\n",
    "import seaborn as sns\n",
    "import numpy as np\n",
    "import os\n",
    "os.environ['CUDA_VISIBLE_DEVICES'] = '1'  "
   ]
  },
  {
   "cell_type": "code",
   "execution_count": 3,
   "metadata": {},
   "outputs": [
    {
     "data": {
      "text/plain": [
       "['balanced', 'byclass', 'bymerge', 'digits', 'letters', 'mnist']"
      ]
     },
     "execution_count": 3,
     "metadata": {},
     "output_type": "execute_result"
    }
   ],
   "source": [
    "list_datasets()"
   ]
  },
  {
   "cell_type": "code",
   "execution_count": 4,
   "metadata": {},
   "outputs": [],
   "source": [
    "train_images, train_labels = extract_training_samples('letters')"
   ]
  },
  {
   "cell_type": "code",
   "execution_count": 5,
   "metadata": {},
   "outputs": [
    {
     "data": {
      "text/plain": [
       "((124800, 28, 28), (124800,))"
      ]
     },
     "execution_count": 5,
     "metadata": {},
     "output_type": "execute_result"
    }
   ],
   "source": [
    "train_images.shape, train_labels.shape"
   ]
  },
  {
   "cell_type": "code",
   "execution_count": 6,
   "metadata": {},
   "outputs": [],
   "source": [
    "test_images, test_labels = extract_test_samples('letters')"
   ]
  },
  {
   "cell_type": "code",
   "execution_count": 7,
   "metadata": {},
   "outputs": [
    {
     "data": {
      "text/plain": [
       "((20800, 28, 28), (20800,))"
      ]
     },
     "execution_count": 7,
     "metadata": {},
     "output_type": "execute_result"
    }
   ],
   "source": [
    "test_images.shape, test_labels.shape"
   ]
  },
  {
   "cell_type": "code",
   "execution_count": 8,
   "metadata": {},
   "outputs": [
    {
     "data": {
      "image/png": "[encoded data removed]",
      "text/plain": [
       "<Figure size 640x480 with 1 Axes>"
      ]
     },
     "metadata": {},
     "output_type": "display_data"
    }
   ],
   "source": [
    "plt.plot()\n",
    "plt.imshow((train_images[1]), cmap=plt.get_cmap('gray'))\n",
    "plt.show()"
   ]
  },
  {
   "cell_type": "code",
   "execution_count": 9,
   "metadata": {},
   "outputs": [
    {
     "name": "stdout",
     "output_type": "stream",
     "text": [
      "(124800,)\n",
      "(124800, 28, 28)\n"
     ]
    }
   ],
   "source": [
    "#training_labels\n",
    "y1 = np.array(train_labels)\n",
    "x1 = np.array(train_images)\n",
    "#testing_labels\n",
    "y2 = np.array(test_labels)\n",
    "x2 = np.array(test_images)\n",
    "print(y1.shape)\n",
    "print(x1.shape)"
   ]
  },
  {
   "cell_type": "code",
   "execution_count": 10,
   "metadata": {},
   "outputs": [],
   "source": [
    "train_images = x1 / 255.0\n",
    "test_images = x2 / 255.0\n",
    "\n",
    "train_images_number = train_images.shape[0]\n",
    "train_images_height = 28\n",
    "train_images_width = 28\n",
    "train_images_size = train_images_height*train_images_width\n",
    "\n",
    "train_images = train_images.reshape(train_images_number, train_images_height, train_images_width, 1)\n",
    "\n",
    "test_images_number = test_images.shape[0]\n",
    "test_images_height = 28\n",
    "test_images_width = 28\n",
    "test_images_size = test_images_height*test_images_width\n",
    "\n",
    "test_images = test_images.reshape(test_images_number, test_images_height, test_images_width, 1)"
   ]
  },
  {
   "cell_type": "code",
   "execution_count": 11,
   "metadata": {},
   "outputs": [],
   "source": [
    "# Transform labels\n",
    "number_of_classes = 37\n",
    "\n",
    "y1 = tf.keras.utils.to_categorical(y1, number_of_classes)\n",
    "y2 = tf.keras.utils.to_categorical(y2, number_of_classes)"
   ]
  },
  {
   "cell_type": "code",
   "execution_count": 12,
   "metadata": {},
   "outputs": [],
   "source": [
    "train_x,test_x,train_y,test_y = train_test_split(train_images,y1,test_size=0.2,random_state = 42)"
   ]
  },
  {
   "cell_type": "code",
   "execution_count": 13,
   "metadata": {},
   "outputs": [
    {
     "name": "stderr",
     "output_type": "stream",
     "text": [
      "2024-03-01 09:41:50.437120: E external/local_xla/xla/stream_executor/cuda/cuda_driver.cc:274] failed call to cuInit: UNKNOWN ERROR (100)\n"
     ]
    },
    {
     "name": "stdout",
     "output_type": "stream",
     "text": [
      "Epoch 1/10\n",
      "3900/3900 [==============================] - 63s 16ms/step - loss: 0.4259 - accuracy: 0.8676 - val_loss: 0.2785 - val_accuracy: 0.9137\n",
      "Epoch 2/10\n",
      "3900/3900 [==============================] - 60s 15ms/step - loss: 0.2478 - accuracy: 0.9201 - val_loss: 0.2492 - val_accuracy: 0.9217\n",
      "Epoch 3/10\n",
      "3900/3900 [==============================] - 56s 14ms/step - loss: 0.2205 - accuracy: 0.9285 - val_loss: 0.2410 - val_accuracy: 0.9226\n",
      "Epoch 4/10\n",
      "3900/3900 [==============================] - 61s 16ms/step - loss: 0.2052 - accuracy: 0.9338 - val_loss: 0.2330 - val_accuracy: 0.9268\n",
      "Epoch 5/10\n",
      "3900/3900 [==============================] - 65s 17ms/step - loss: 0.1962 - accuracy: 0.9364 - val_loss: 0.2279 - val_accuracy: 0.9287\n",
      "Epoch 6/10\n",
      "3900/3900 [==============================] - 80s 21ms/step - loss: 0.1890 - accuracy: 0.9382 - val_loss: 0.2337 - val_accuracy: 0.9278\n",
      "Epoch 7/10\n",
      "3900/3900 [==============================] - 72s 18ms/step - loss: 0.1830 - accuracy: 0.9399 - val_loss: 0.2239 - val_accuracy: 0.9296\n",
      "Epoch 8/10\n",
      "3900/3900 [==============================] - 72s 18ms/step - loss: 0.1781 - accuracy: 0.9419 - val_loss: 0.2239 - val_accuracy: 0.9320\n",
      "Epoch 9/10\n",
      "3900/3900 [==============================] - 86s 22ms/step - loss: 0.1734 - accuracy: 0.9432 - val_loss: 0.2226 - val_accuracy: 0.9296\n",
      "Epoch 10/10\n",
      "3900/3900 [==============================] - 80s 21ms/step - loss: 0.1693 - accuracy: 0.9450 - val_loss: 0.2370 - val_accuracy: 0.9300\n",
      "650/650 [==============================] - 5s 8ms/step - loss: 0.2370 - accuracy: 0.9300\n",
      "Précision du modèle sur les données de test: 0.9300480484962463\n"
     ]
    }
   ],
   "source": [
    "# # Convert labels to one-hot encoding\n",
    "# train_labels_encoded = tf.keras.utils.to_categorical(train_labels, number_of_classes)\n",
    "# test_labels_encoded = tf.keras.utils.to_categorical(test_labels, number_of_classes)\n",
    "\n",
    "# # Define the model\n",
    "# model = models.Sequential([\n",
    "#     layers.Conv2D(32, (5, 5), padding='same', activation='relu', input_shape=(28, 28, 1)),\n",
    "#     layers.MaxPooling2D(2, 2),\n",
    "#     layers.Conv2D(64, (3, 3), padding='same', activation='relu'),\n",
    "#     layers.MaxPooling2D(2, 2),\n",
    "#     layers.Flatten(),\n",
    "#     layers.Dense(number_of_classes, activation='softmax')\n",
    "# ])\n",
    "\n",
    "# # Compile the model\n",
    "# model.compile(optimizer='rmsprop', loss='categorical_crossentropy', metrics=['accuracy'])\n",
    "\n",
    "# # Train the model\n",
    "# model.fit(train_images, train_labels_encoded, epochs=10, validation_data=(test_images, test_labels_encoded))\n",
    "\n",
    "# # Evaluate the model\n",
    "# test_loss, test_acc = model.evaluate(test_images, test_labels_encoded)\n",
    "# print('Précision du modèle sur les données de test:', test_acc)\n",
    "\n"
   ]
  },
  {
   "cell_type": "code",
   "execution_count": 14,
   "metadata": {},
   "outputs": [],
   "source": [
    "# model.save('mnist_lettre.keras')"
   ]
  },
  {
   "cell_type": "code",
   "execution_count": 17,
   "metadata": {},
   "outputs": [],
   "source": [
    "# Convert labels to one-hot encoding\n",
    "train_labels_encoded = tf.keras.utils.to_categorical(train_labels, number_of_classes)\n",
    "test_labels_encoded = tf.keras.utils.to_categorical(test_labels, number_of_classes)"
   ]
  },
  {
   "cell_type": "code",
   "execution_count": 18,
   "metadata": {},
   "outputs": [],
   "source": [
    "# Define the model\n",
    "model = models.Sequential([\n",
    "    layers.Conv2D(32, (5, 5), padding='same', activation='relu', input_shape=(28, 28, 1)),\n",
    "    layers.MaxPooling2D(2, 2),\n",
    "    layers.Flatten(),\n",
    "    layers.Dense(number_of_classes, activation='softmax')\n",
    "])"
   ]
  },
  {
   "cell_type": "code",
   "execution_count": 19,
   "metadata": {},
   "outputs": [],
   "source": [
    "# Compile the model\n",
    "model.compile(optimizer='rmsprop', loss='categorical_crossentropy', metrics=['accuracy'])"
   ]
  },
  {
   "cell_type": "code",
   "execution_count": 20,
   "metadata": {},
   "outputs": [
    {
     "name": "stdout",
     "output_type": "stream",
     "text": [
      "3900/3900 [==============================] - 42s 11ms/step - loss: 0.5474 - accuracy: 0.8354 - val_loss: 0.3761 - val_accuracy: 0.8866\n",
      "650/650 [==============================] - 3s 5ms/step - loss: 0.3761 - accuracy: 0.8866\n",
      "Précision du modèle sur les données de test: 0.8865865468978882\n"
     ]
    }
   ],
   "source": [
    "# Train the model\n",
    "model.fit(train_images, train_labels_encoded, epochs=1, validation_data=(test_images, test_labels_encoded))\n",
    "\n",
    "# Evaluate the model\n",
    "test_loss, test_acc = model.evaluate(test_images, test_labels_encoded)\n",
    "print('Précision du modèle sur les données de test:', test_acc)"
   ]
  },
  {
   "cell_type": "code",
   "execution_count": null,
   "metadata": {},
   "outputs": [],
   "source": []
  }
 ],
 "metadata": {
  "kernelspec": {
   "display_name": ".venv",
   "language": "python",
   "name": "python3"
  },
  "language_info": {
   "codemirror_mode": {
    "name": "ipython",
    "version": 3
   },
   "file_extension": ".py",
   "mimetype": "text/x-python",
   "name": "python",
   "nbconvert_exporter": "python",
   "pygments_lexer": "ipython3",
   "version": "3.11.5"
  }
 },
 "nbformat": 4,
 "nbformat_minor": 2
}
